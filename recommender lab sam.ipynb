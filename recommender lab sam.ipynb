{
 "metadata": {
  "name": "",
  "signature": "sha256:29c4fa6149cf80de958b9314cf99b9a4b94a7668d282c51a2ef5caae6f5f3d89"
 },
 "nbformat": 3,
 "nbformat_minor": 0,
 "worksheets": [
  {
   "cells": [
    {
     "cell_type": "code",
     "collapsed": false,
     "input": [
      "import pandas as pd\n",
      "import numpy as np"
     ],
     "language": "python",
     "metadata": {},
     "outputs": [],
     "prompt_number": 16
    },
    {
     "cell_type": "code",
     "collapsed": false,
     "input": [
      "M = pd.read_csv('MovieReviews.csv', index_col='Name')"
     ],
     "language": "python",
     "metadata": {},
     "outputs": [],
     "prompt_number": 17
    },
    {
     "cell_type": "code",
     "collapsed": false,
     "input": [
      "def pearson(s1, s2):\n",
      "    \"\"\"Take two pd.Series objects and return a pearson correlation.\"\"\"\n",
      "    s1_c = s1 - s1.mean()\n",
      "    s2_c = s2 - s2.mean()\n",
      "    return np.sum(s1_c * s2_c) / np.sqrt(np.sum(s1_c ** 2) * np.sum(s2_c ** 2))"
     ],
     "language": "python",
     "metadata": {},
     "outputs": [],
     "prompt_number": 18
    },
    {
     "cell_type": "code",
     "collapsed": false,
     "input": [
      "def get_recs(movie_name, M, num):\n",
      "\n",
      "    import numpy as np\n",
      "    reviews = []\n",
      "    for title in M.columns:\n",
      "        if title == movie_name:\n",
      "            continue\n",
      "        cor = pearson(M[movie_name], M[title])\n",
      "        if np.isnan(cor):\n",
      "            continue\n",
      "        else:\n",
      "            reviews.append((title, cor))\n",
      "    \n",
      "    reviews.sort(key=lambda tup: tup[1], reverse=True)\n",
      "    return reviews[:num]\n",
      "\n",
      "    "
     ],
     "language": "python",
     "metadata": {},
     "outputs": [],
     "prompt_number": 19
    },
    {
     "cell_type": "markdown",
     "metadata": {},
     "source": [
      "###Question 1:  What movie is most Similar to 'The fault in our stars' (60 pts)\n"
     ]
    },
    {
     "cell_type": "code",
     "collapsed": false,
     "input": [
      "recs = get_recs('The Fault in Our Stars', M, 10)\n",
      "recs[:2]"
     ],
     "language": "python",
     "metadata": {},
     "outputs": [
      {
       "metadata": {},
       "output_type": "pyout",
       "prompt_number": 20,
       "text": [
        "[('The Hunger Games: Mockingjay - Part 1', 0.45141466942845776),\n",
        " ('Malificent', 0.44561594851797387)]"
       ]
      }
     ],
     "prompt_number": 20
    },
    {
     "cell_type": "markdown",
     "metadata": {},
     "source": [
      "###Question 2:  Which movie(s) would you most like to see, based on your classmates experience? (40 pts)"
     ]
    },
    {
     "cell_type": "code",
     "collapsed": false,
     "input": [
      "#HINTS...\n",
      "\n",
      "#the movies I've seen\n",
      "my_ratings = M.ix['Sai Sampath'].dropna()\n",
      "#the movie I've rated the highest\n",
      "my_ratings.sort(ascending=False)\n",
      "#the name of the movie I've rated the highest\n",
      "fav_movie = my_ratings.index[0]"
     ],
     "language": "python",
     "metadata": {},
     "outputs": [],
     "prompt_number": 42
    },
    {
     "cell_type": "code",
     "collapsed": false,
     "input": [
      "fav_movie"
     ],
     "language": "python",
     "metadata": {},
     "outputs": [
      {
       "metadata": {},
       "output_type": "pyout",
       "prompt_number": 22,
       "text": [
        "'How to Train your Dragon 2'"
       ]
      }
     ],
     "prompt_number": 22
    },
    {
     "cell_type": "code",
     "collapsed": false,
     "input": [
      "my_ratings"
     ],
     "language": "python",
     "metadata": {},
     "outputs": [
      {
       "metadata": {},
       "output_type": "pyout",
       "prompt_number": 23,
       "text": [
        "How to Train your Dragon 2               5\n",
        "Interstellar                             5\n",
        "The Hobbit                               5\n",
        "American Sniper                          5\n",
        "Big Hero 6                               4\n",
        "Transformers                             4\n",
        "The Hunger Games: Mockingjay - Part 1    4\n",
        "Gone Girl                                3\n",
        "Guardians of the Galaxy                  3\n",
        "Divergent                                2\n",
        "Unbroken                                 1\n",
        "Name: Sampath, dtype: float64"
       ]
      }
     ],
     "prompt_number": 23
    },
    {
     "cell_type": "code",
     "collapsed": false,
     "input": [
      "recs = get_recs(fav_movie, M, 5)"
     ],
     "language": "python",
     "metadata": {},
     "outputs": [],
     "prompt_number": 24
    },
    {
     "cell_type": "code",
     "collapsed": false,
     "input": [
      "recs[:5]"
     ],
     "language": "python",
     "metadata": {},
     "outputs": [
      {
       "metadata": {},
       "output_type": "pyout",
       "prompt_number": 25,
       "text": [
        "[('The Hobbit', 0.45911600397525798),\n",
        " ('300: Rise of an Empire', 0.42700908102727386),\n",
        " ('Interstellar', 0.27971546389275787),\n",
        " ('The Fault in Our Stars', 0.14208044735355688),\n",
        " ('American Sniper', 0.11371470653683548)]"
       ]
      }
     ],
     "prompt_number": 25
    },
    {
     "cell_type": "markdown",
     "metadata": {},
     "source": [
      "###Question 3: Bonus Question...  For all the movies you haven't seen, can you predict how you'd rate them using your the class reviews? (10 pts)"
     ]
    },
    {
     "cell_type": "code",
     "collapsed": false,
     "input": [
      "not_rated = M.ix['Sai Sampath']\n",
      "not_rated.sort()\n",
      "for i in range(0, not_rated.count(), 1):\n",
      "    not_rated.drop(not_rated.index[0], inplace=True)"
     ],
     "language": "python",
     "metadata": {},
     "outputs": [],
     "prompt_number": 43
    },
    {
     "cell_type": "code",
     "collapsed": false,
     "input": [
      "not_rated"
     ],
     "language": "python",
     "metadata": {},
     "outputs": [
      {
       "metadata": {},
       "output_type": "pyout",
       "prompt_number": 28,
       "text": [
        "The Lego Movie           NaN\n",
        "Malificent               NaN\n",
        "Godzilla                 NaN\n",
        "The Fault in Our Stars   NaN\n",
        "300: Rise of an Empire   NaN\n",
        "Name: Sampath, dtype: float64"
       ]
      }
     ],
     "prompt_number": 28
    },
    {
     "cell_type": "code",
     "collapsed": false,
     "input": [
      "print \"Pearson Correlation coefficient of :\"\n",
      "a= []\n",
      "for i in range(0, 23, 1): # as there are 23 rows(M.shape), range(0,23) \n",
      "    cor=pearson(M.ix[12], M.ix[i])\n",
      "    print \"(\" + M.index[12] + \" , \" + M.index[i] + \") :\", cor\n",
      "    a.append(cor)"
     ],
     "language": "python",
     "metadata": {},
     "outputs": [
      {
       "output_type": "stream",
       "stream": "stdout",
       "text": [
        "Pearson Correlation coefficient of :\n",
        "(Sai Sampath , Mike) : 0.392465672422\n",
        "(Sai Sampath , HJ SONG) : 0.0768201234901\n",
        "(Sai Sampath , Ryan Hansen) : -0.0212958855\n",
        "(Sai Sampath , Olumuyiwa Durojaiye) : 0.193314770295\n",
        "(Sai Sampath , Charlie) : 0.379581786657\n",
        "(Sai Sampath , Sina Tuy) : 0.354569483426\n",
        "(Sai Sampath , Pavithra Shetty) : 0.13957263156\n",
        "(Sai Sampath , Sara Collins) : 0.188982236505\n",
        "(Sai Sampath , Jonathan Doll) : -0.110656667034\n",
        "(Sai Sampath , saikiran reddy) : 0.349989409523\n",
        "(Sai Sampath , Aishwarya reddy) : 1.0\n",
        "(Sai Sampath , Brant Mullinix) :"
       ]
      },
      {
       "output_type": "stream",
       "stream": "stdout",
       "text": [
        " -0.0697863157799\n",
        "(Sai Sampath , Sai Sampath) : 1.0\n",
        "(Sai Sampath , Suyendra) : -0.114210885717\n",
        "(Sai Sampath , Sai Yallapragada) : -0.0385758374905\n",
        "(Sai Sampath , Akhilesh) : -0.180036010804\n",
        "(Sai Sampath , Sundar Prasad) : 0.188982236505\n",
        "(Sai Sampath , Evan Piercy) : -0.112687233964\n",
        "(Sai Sampath , Jessica Fong) : 0.0845154254729\n",
        "(Sai Sampath , Onsiri Tapsarn) : nan\n",
        "(Sai Sampath , Anirudh Thota) : 0.24152294577\n",
        "(Sai Sampath , Greg Werner) : 0.425213603213\n",
        "(Sai Sampath , Violeta Lee Fay) :"
       ]
      },
      {
       "output_type": "stream",
       "stream": "stdout",
       "text": [
        " 0.445435403187\n"
       ]
      }
     ],
     "prompt_number": 44
    },
    {
     "cell_type": "code",
     "collapsed": false,
     "input": [
      "def pred_rate(x, a):\n",
      "    \"\"\"\n",
      "    Takes two parameters 'x' and 'a'. \n",
      "    Where 'x' a list of rates given by classmates. \n",
      "    'a' is a array that has corresponding pearson correlation coefficientreturn (weights for the given rates).\n",
      "    predicted rate is calculated as rate= (x[0]*a[0] + x[1]*a[1] +...+x[i]*a[i]) / (a[0]+a[1]+..+a[i]) \n",
      "    returns predicted rate \n",
      "    \"\"\"\n",
      "    j=0\n",
      "    k=0\n",
      "    for i in range(0, 23, 1): # as there are 23 rows(x.shape), range(0,23) \n",
      "        if x.irow(i)>0 and a[i]>0: \n",
      "            j= j+(a[i]*x.irow(i))\n",
      "            k= k+a[i]\n",
      "        else:\n",
      "            continue\n",
      "    return j/k"
     ],
     "language": "python",
     "metadata": {},
     "outputs": [],
     "prompt_number": 38
    },
    {
     "cell_type": "code",
     "collapsed": false,
     "input": [
      "print \"The rating for the unwatched movies]:\"\n",
      "for i in range(0, 3, 1): # as there are 12 rows(not_rated.shape), range(0,12) \n",
      "    x=M[not_rated.index[i]]\n",
      "    rate=pred_rate(x, a)\n",
      "    print not_rated.index[i] +\": \", rate.round(1)"
     ],
     "language": "python",
     "metadata": {},
     "outputs": [
      {
       "output_type": "stream",
       "stream": "stdout",
       "text": [
        "The rating for the unwatched movies]:\n",
        "The Lego Movie:  3.2\n",
        "Malificent:  3.3\n",
        "Godzilla:  2.9\n"
       ]
      }
     ],
     "prompt_number": 40
    },
    {
     "cell_type": "code",
     "collapsed": false,
     "input": [],
     "language": "python",
     "metadata": {},
     "outputs": [],
     "prompt_number": 15
    },
    {
     "cell_type": "code",
     "collapsed": false,
     "input": [],
     "language": "python",
     "metadata": {},
     "outputs": []
    }
   ],
   "metadata": {}
  }
 ]
}